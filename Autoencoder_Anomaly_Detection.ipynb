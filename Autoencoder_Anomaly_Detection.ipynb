{
  "nbformat": 4,
  "nbformat_minor": 0,
  "metadata": {
    "colab": {
      "provenance": [],
      "collapsed_sections": []
    },
    "kernelspec": {
      "name": "python3",
      "display_name": "Python 3"
    },
    "language_info": {
      "name": "python"
    }
  },
  "cells": [
    {
      "cell_type": "markdown",
      "source": [
        "Load Data from this competitions Link"
      ],
      "metadata": {
        "id": "O1Die1sRVaqd"
      }
    },
    {
      "cell_type": "markdown",
      "source": [
        "https://www.kaggle.com/competitions/anomaly-detection/data?select=train.csv"
      ],
      "metadata": {
        "id": "EZkbwF8a9-Hb"
      }
    },
    {
      "cell_type": "code",
      "execution_count": null,
      "metadata": {
        "colab": {
          "base_uri": "https://localhost:8080/"
        },
        "id": "BGm82nZu8uKg",
        "outputId": "6b0cf625-7ad6-4142-a54a-b4526e747eed"
      },
      "outputs": [
        {
          "output_type": "stream",
          "name": "stdout",
          "text": [
            "--2022-09-12 04:31:08--  https://storage.googleapis.com/kaggle-competitions-data/kaggle-v2/29569/2386789/bundle/archive.zip?GoogleAccessId=web-data@kaggle-161607.iam.gserviceaccount.com&Expires=1663216197&Signature=AWJ3jUB51ZzuV7CU1xgrklNmEJL%2FYjGdygvXG6UrQqXU2nOpmK%2BUYJorZXlZdMSfpdqy0yZo%2FKgbhzqao83RJK034Xc3UiEFZvx4NdZ8ByvdlSwApbADoIycuCjGXDZzwPpVq2Y4Rl2hjRqA5W9vK2GDdhIrcdS8hgSrtXrtamIerAs2wqa8kCcc%2BoKYoAVIxY%2F1Wa%2BguPUT72dZezAToge33FzJ7oasHxpBAGRQjYu1XJHIcK9OKp9tuoFue1CJS6bdo9rJRG2KQ0N27dLjtVWhkcVtiWh8DTeBgY7Z%2FgUET%2F4K6DE46BKLhIweGBXbC3f%2Fo%2Bjjh%2BDzM9bE48utPw%3D%3D&response-content-disposition=attachment%3B+filename%3Danomaly-detection.zip\n",
            "Resolving storage.googleapis.com (storage.googleapis.com)... 74.125.141.128, 173.194.210.128, 173.194.211.128, ...\n",
            "Connecting to storage.googleapis.com (storage.googleapis.com)|74.125.141.128|:443... connected.\n",
            "HTTP request sent, awaiting response... 200 OK\n",
            "Length: 225974 (221K) [application/zip]\n",
            "Saving to: ‘anomaly-detection.zip’\n",
            "\n",
            "\ranomaly-detection.z   0%[                    ]       0  --.-KB/s               \ranomaly-detection.z 100%[===================>] 220.68K  --.-KB/s    in 0.004s  \n",
            "\n",
            "2022-09-12 04:31:08 (56.8 MB/s) - ‘anomaly-detection.zip’ saved [225974/225974]\n",
            "\n"
          ]
        }
      ],
      "source": [
        "!wget --header=\"Host: storage.googleapis.com\" --header=\"User-Agent: Mozilla/5.0 (Windows NT 6.3; Win64; x64) AppleWebKit/537.36 (KHTML, like Gecko) Chrome/105.0.0.0 Safari/537.36\" --header=\"Accept: text/html,application/xhtml+xml,application/xml;q=0.9,image/avif,image/webp,image/apng,*/*;q=0.8,application/signed-exchange;v=b3;q=0.9\" --header=\"Accept-Language: ar-AE,ar;q=0.9,en-US;q=0.8,en;q=0.7\" --header=\"Referer: https://www.kaggle.com/\" \"https://storage.googleapis.com/kaggle-competitions-data/kaggle-v2/29569/2386789/bundle/archive.zip?GoogleAccessId=web-data@kaggle-161607.iam.gserviceaccount.com&Expires=1663216197&Signature=AWJ3jUB51ZzuV7CU1xgrklNmEJL%2FYjGdygvXG6UrQqXU2nOpmK%2BUYJorZXlZdMSfpdqy0yZo%2FKgbhzqao83RJK034Xc3UiEFZvx4NdZ8ByvdlSwApbADoIycuCjGXDZzwPpVq2Y4Rl2hjRqA5W9vK2GDdhIrcdS8hgSrtXrtamIerAs2wqa8kCcc%2BoKYoAVIxY%2F1Wa%2BguPUT72dZezAToge33FzJ7oasHxpBAGRQjYu1XJHIcK9OKp9tuoFue1CJS6bdo9rJRG2KQ0N27dLjtVWhkcVtiWh8DTeBgY7Z%2FgUET%2F4K6DE46BKLhIweGBXbC3f%2Fo%2Bjjh%2BDzM9bE48utPw%3D%3D&response-content-disposition=attachment%3B+filename%3Danomaly-detection.zip\" -c -O 'anomaly-detection.zip'"
      ]
    },
    {
      "cell_type": "markdown",
      "source": [
        "Unzip data"
      ],
      "metadata": {
        "id": "_SZzLQgKVkXf"
      }
    },
    {
      "cell_type": "code",
      "source": [
        "!unzip /content/anomaly-detection.zip"
      ],
      "metadata": {
        "colab": {
          "base_uri": "https://localhost:8080/"
        },
        "id": "Cwp2Wi119wfH",
        "outputId": "f4acec8f-7637-498a-e013-ff66eb9090af"
      },
      "execution_count": null,
      "outputs": [
        {
          "output_type": "stream",
          "name": "stdout",
          "text": [
            "Archive:  /content/anomaly-detection.zip\n",
            "  inflating: Submission.csv          \n",
            "  inflating: test.csv                \n",
            "  inflating: train.csv               \n"
          ]
        }
      ]
    },
    {
      "cell_type": "markdown",
      "source": [
        "Read Dataset"
      ],
      "metadata": {
        "id": "tCf5adVyVmjQ"
      }
    },
    {
      "cell_type": "code",
      "source": [
        "import pandas as pd\n",
        "\n",
        "df = pd.read_csv('/content/train.csv')\n",
        "\n",
        "df.head()"
      ],
      "metadata": {
        "colab": {
          "base_uri": "https://localhost:8080/",
          "height": 206
        },
        "id": "Hh7ZKPH_-ACv",
        "outputId": "867a13ae-8b7b-4406-da64-96645ded4677"
      },
      "execution_count": null,
      "outputs": [
        {
          "output_type": "execute_result",
          "data": {
            "text/plain": [
              "    timestamp  value  is_anomaly  predicted\n",
              "0  1425008573     42       False  44.072500\n",
              "1  1425008873     41       False  50.709390\n",
              "2  1425009173     41       False  81.405120\n",
              "3  1425009473     61       False  39.950367\n",
              "4  1425009773     44       False  35.350160"
            ],
            "text/html": [
              "\n",
              "  <div id=\"df-10b67589-346e-420c-aa26-6ab7de9f3fb0\">\n",
              "    <div class=\"colab-df-container\">\n",
              "      <div>\n",
              "<style scoped>\n",
              "    .dataframe tbody tr th:only-of-type {\n",
              "        vertical-align: middle;\n",
              "    }\n",
              "\n",
              "    .dataframe tbody tr th {\n",
              "        vertical-align: top;\n",
              "    }\n",
              "\n",
              "    .dataframe thead th {\n",
              "        text-align: right;\n",
              "    }\n",
              "</style>\n",
              "<table border=\"1\" class=\"dataframe\">\n",
              "  <thead>\n",
              "    <tr style=\"text-align: right;\">\n",
              "      <th></th>\n",
              "      <th>timestamp</th>\n",
              "      <th>value</th>\n",
              "      <th>is_anomaly</th>\n",
              "      <th>predicted</th>\n",
              "    </tr>\n",
              "  </thead>\n",
              "  <tbody>\n",
              "    <tr>\n",
              "      <th>0</th>\n",
              "      <td>1425008573</td>\n",
              "      <td>42</td>\n",
              "      <td>False</td>\n",
              "      <td>44.072500</td>\n",
              "    </tr>\n",
              "    <tr>\n",
              "      <th>1</th>\n",
              "      <td>1425008873</td>\n",
              "      <td>41</td>\n",
              "      <td>False</td>\n",
              "      <td>50.709390</td>\n",
              "    </tr>\n",
              "    <tr>\n",
              "      <th>2</th>\n",
              "      <td>1425009173</td>\n",
              "      <td>41</td>\n",
              "      <td>False</td>\n",
              "      <td>81.405120</td>\n",
              "    </tr>\n",
              "    <tr>\n",
              "      <th>3</th>\n",
              "      <td>1425009473</td>\n",
              "      <td>61</td>\n",
              "      <td>False</td>\n",
              "      <td>39.950367</td>\n",
              "    </tr>\n",
              "    <tr>\n",
              "      <th>4</th>\n",
              "      <td>1425009773</td>\n",
              "      <td>44</td>\n",
              "      <td>False</td>\n",
              "      <td>35.350160</td>\n",
              "    </tr>\n",
              "  </tbody>\n",
              "</table>\n",
              "</div>\n",
              "      <button class=\"colab-df-convert\" onclick=\"convertToInteractive('df-10b67589-346e-420c-aa26-6ab7de9f3fb0')\"\n",
              "              title=\"Convert this dataframe to an interactive table.\"\n",
              "              style=\"display:none;\">\n",
              "        \n",
              "  <svg xmlns=\"http://www.w3.org/2000/svg\" height=\"24px\"viewBox=\"0 0 24 24\"\n",
              "       width=\"24px\">\n",
              "    <path d=\"M0 0h24v24H0V0z\" fill=\"none\"/>\n",
              "    <path d=\"M18.56 5.44l.94 2.06.94-2.06 2.06-.94-2.06-.94-.94-2.06-.94 2.06-2.06.94zm-11 1L8.5 8.5l.94-2.06 2.06-.94-2.06-.94L8.5 2.5l-.94 2.06-2.06.94zm10 10l.94 2.06.94-2.06 2.06-.94-2.06-.94-.94-2.06-.94 2.06-2.06.94z\"/><path d=\"M17.41 7.96l-1.37-1.37c-.4-.4-.92-.59-1.43-.59-.52 0-1.04.2-1.43.59L10.3 9.45l-7.72 7.72c-.78.78-.78 2.05 0 2.83L4 21.41c.39.39.9.59 1.41.59.51 0 1.02-.2 1.41-.59l7.78-7.78 2.81-2.81c.8-.78.8-2.07 0-2.86zM5.41 20L4 18.59l7.72-7.72 1.47 1.35L5.41 20z\"/>\n",
              "  </svg>\n",
              "      </button>\n",
              "      \n",
              "  <style>\n",
              "    .colab-df-container {\n",
              "      display:flex;\n",
              "      flex-wrap:wrap;\n",
              "      gap: 12px;\n",
              "    }\n",
              "\n",
              "    .colab-df-convert {\n",
              "      background-color: #E8F0FE;\n",
              "      border: none;\n",
              "      border-radius: 50%;\n",
              "      cursor: pointer;\n",
              "      display: none;\n",
              "      fill: #1967D2;\n",
              "      height: 32px;\n",
              "      padding: 0 0 0 0;\n",
              "      width: 32px;\n",
              "    }\n",
              "\n",
              "    .colab-df-convert:hover {\n",
              "      background-color: #E2EBFA;\n",
              "      box-shadow: 0px 1px 2px rgba(60, 64, 67, 0.3), 0px 1px 3px 1px rgba(60, 64, 67, 0.15);\n",
              "      fill: #174EA6;\n",
              "    }\n",
              "\n",
              "    [theme=dark] .colab-df-convert {\n",
              "      background-color: #3B4455;\n",
              "      fill: #D2E3FC;\n",
              "    }\n",
              "\n",
              "    [theme=dark] .colab-df-convert:hover {\n",
              "      background-color: #434B5C;\n",
              "      box-shadow: 0px 1px 3px 1px rgba(0, 0, 0, 0.15);\n",
              "      filter: drop-shadow(0px 1px 2px rgba(0, 0, 0, 0.3));\n",
              "      fill: #FFFFFF;\n",
              "    }\n",
              "  </style>\n",
              "\n",
              "      <script>\n",
              "        const buttonEl =\n",
              "          document.querySelector('#df-10b67589-346e-420c-aa26-6ab7de9f3fb0 button.colab-df-convert');\n",
              "        buttonEl.style.display =\n",
              "          google.colab.kernel.accessAllowed ? 'block' : 'none';\n",
              "\n",
              "        async function convertToInteractive(key) {\n",
              "          const element = document.querySelector('#df-10b67589-346e-420c-aa26-6ab7de9f3fb0');\n",
              "          const dataTable =\n",
              "            await google.colab.kernel.invokeFunction('convertToInteractive',\n",
              "                                                     [key], {});\n",
              "          if (!dataTable) return;\n",
              "\n",
              "          const docLinkHtml = 'Like what you see? Visit the ' +\n",
              "            '<a target=\"_blank\" href=https://colab.research.google.com/notebooks/data_table.ipynb>data table notebook</a>'\n",
              "            + ' to learn more about interactive tables.';\n",
              "          element.innerHTML = '';\n",
              "          dataTable['output_type'] = 'display_data';\n",
              "          await google.colab.output.renderOutput(dataTable, element);\n",
              "          const docLink = document.createElement('div');\n",
              "          docLink.innerHTML = docLinkHtml;\n",
              "          element.appendChild(docLink);\n",
              "        }\n",
              "      </script>\n",
              "    </div>\n",
              "  </div>\n",
              "  "
            ]
          },
          "metadata": {},
          "execution_count": 4
        }
      ]
    },
    {
      "cell_type": "code",
      "source": [
        "# drop column timestamp\n",
        "\n",
        "df=df.drop(['timestamp'], axis=1)"
      ],
      "metadata": {
        "id": "AVvOeVh8-s1Z"
      },
      "execution_count": null,
      "outputs": []
    },
    {
      "cell_type": "code",
      "source": [
        "# make a conditions to split anomaly rows from non anomaly\n",
        "\n",
        "is_anomaly_T=df[\"is_anomaly\"]==True\n",
        "is_anomaly_F=df[\"is_anomaly\"]==False"
      ],
      "metadata": {
        "id": "cJeGXVbI_VGv"
      },
      "execution_count": null,
      "outputs": []
    },
    {
      "cell_type": "code",
      "source": [
        "#split anomaly rows from non anomaly \n",
        "\n",
        "df_f=df[is_anomaly_F]\n",
        "df_t=df[is_anomaly_T]"
      ],
      "metadata": {
        "id": "rGYk1h97_rE-"
      },
      "execution_count": null,
      "outputs": []
    },
    {
      "cell_type": "code",
      "source": [
        "df_f=df_f.drop(['is_anomaly'], axis=1)\n",
        "df_t=df_t.drop(['is_anomaly'], axis=1)"
      ],
      "metadata": {
        "id": "lIbOm8j5_3Qf"
      },
      "execution_count": null,
      "outputs": []
    },
    {
      "cell_type": "code",
      "source": [
        "train_x=df_f.values\n",
        "test_x=df_t.values"
      ],
      "metadata": {
        "id": "floyKZ0vAFlz"
      },
      "execution_count": null,
      "outputs": []
    },
    {
      "cell_type": "code",
      "source": [
        "train_x=train_x.astype('float32')\n",
        "test_x=test_x.astype('float32')"
      ],
      "metadata": {
        "id": "-BnMrXVMAbm-"
      },
      "execution_count": null,
      "outputs": []
    },
    {
      "cell_type": "code",
      "source": [
        "import cv2\n",
        "import glob\n",
        "import keras\n",
        "from keras import layers\n",
        "import numpy as np\n",
        "import random\n",
        "import tensorflow as tf\n",
        "seed=42\n",
        "random.seed(seed)\n",
        "np.random.seed(seed)\n",
        "tf.random.set_seed(seed)"
      ],
      "metadata": {
        "id": "lMaMXST7AuEv"
      },
      "execution_count": null,
      "outputs": []
    },
    {
      "cell_type": "markdown",
      "source": [
        "create our model"
      ],
      "metadata": {
        "id": "EzrZN2poWZct"
      }
    },
    {
      "cell_type": "code",
      "source": [
        "import keras\n",
        "from keras import layers\n",
        "\n",
        "\n",
        "input_img = keras.Input(shape=(2,))\n",
        "\n",
        "x1=layers.Dense(50,activation='relu')(input_img)\n",
        "# \"encoded\" is the encoded representation of the input\n",
        "encoded = layers.Dense(32, activation='relu')(x1)\n",
        "\n",
        "x2=layers.Dense(50,activation='relu')(encoded)\n",
        "# \"decoded\" is the lossy reconstruction of the input\n",
        "decoded = layers.Dense(2)(x2)\n",
        "autoencoder = keras.Model(input_img, decoded)\n",
        "autoencoder.compile(optimizer='adam', loss='mean_squared_error')\n"
      ],
      "metadata": {
        "id": "yGHbITBuBVmw"
      },
      "execution_count": null,
      "outputs": []
    },
    {
      "cell_type": "code",
      "source": [
        "from keras.callbacks import ModelCheckpoint\n",
        "filepath = 'my_best_model.epoch{epoch:02d}-loss{val_loss:.2f}.hdf5'\n",
        "\n",
        "checkpoint = ModelCheckpoint(filepath=filepath, \n",
        "                             monitor='val_loss',\n",
        "                             verbose=1, \n",
        "                             save_best_only=True,\n",
        "                             mode='min')"
      ],
      "metadata": {
        "id": "eYYv0Lk6Fdko"
      },
      "execution_count": null,
      "outputs": []
    },
    {
      "cell_type": "markdown",
      "source": [
        "we here train our model with non anomaly data only\n",
        "to make our model can reconstruct non anomaly data only with lowest possible error and at test time anomaly data will give us high error"
      ],
      "metadata": {
        "id": "ZW7xt1DMWibr"
      }
    },
    {
      "cell_type": "code",
      "source": [
        "autoencoder.fit(train_x, train_x,\n",
        "                epochs=50,\n",
        "                batch_size=64,\n",
        "                shuffle=True,\n",
        "                validation_split=0.2,callbacks=[checkpoint])"
      ],
      "metadata": {
        "colab": {
          "base_uri": "https://localhost:8080/"
        },
        "id": "A5AO3swjD8HC",
        "outputId": "b834421d-3f8b-4d45-dc07-61a71ecc3bbd"
      },
      "execution_count": null,
      "outputs": [
        {
          "output_type": "stream",
          "name": "stdout",
          "text": [
            "Epoch 1/50\n",
            "189/189 [==============================] - ETA: 0s - loss: 0.0676\n",
            "Epoch 1: val_loss improved from inf to 0.19865, saving model to my_best_model.epoch01-loss0.20.hdf5\n",
            "189/189 [==============================] - 0s 3ms/step - loss: 0.0676 - val_loss: 0.1986\n",
            "Epoch 2/50\n",
            "165/189 [=========================>....] - ETA: 0s - loss: 0.0301\n",
            "Epoch 2: val_loss improved from 0.19865 to 0.03862, saving model to my_best_model.epoch02-loss0.04.hdf5\n",
            "189/189 [==============================] - 0s 2ms/step - loss: 0.0273 - val_loss: 0.0386\n",
            "Epoch 3/50\n",
            "167/189 [=========================>....] - ETA: 0s - loss: 0.7489\n",
            "Epoch 3: val_loss did not improve from 0.03862\n",
            "189/189 [==============================] - 0s 2ms/step - loss: 1.2367 - val_loss: 2.1600\n",
            "Epoch 4/50\n",
            "185/189 [============================>.] - ETA: 0s - loss: 0.6743\n",
            "Epoch 4: val_loss did not improve from 0.03862\n",
            "189/189 [==============================] - 0s 2ms/step - loss: 0.6761 - val_loss: 0.2318\n",
            "Epoch 5/50\n",
            "177/189 [===========================>..] - ETA: 0s - loss: 0.2416\n",
            "Epoch 5: val_loss did not improve from 0.03862\n",
            "189/189 [==============================] - 0s 2ms/step - loss: 0.2295 - val_loss: 0.2854\n",
            "Epoch 6/50\n",
            "163/189 [========================>.....] - ETA: 0s - loss: 1.1596\n",
            "Epoch 6: val_loss did not improve from 0.03862\n",
            "189/189 [==============================] - 0s 2ms/step - loss: 1.1242 - val_loss: 1.0610\n",
            "Epoch 7/50\n",
            "178/189 [===========================>..] - ETA: 0s - loss: 0.5032\n",
            "Epoch 7: val_loss did not improve from 0.03862\n",
            "189/189 [==============================] - 0s 2ms/step - loss: 0.4885 - val_loss: 0.7977\n",
            "Epoch 8/50\n",
            "168/189 [=========================>....] - ETA: 0s - loss: 0.2410\n",
            "Epoch 8: val_loss did not improve from 0.03862\n",
            "189/189 [==============================] - 0s 2ms/step - loss: 0.2195 - val_loss: 1.3470\n",
            "Epoch 9/50\n",
            "171/189 [==========================>...] - ETA: 0s - loss: 1.4818\n",
            "Epoch 9: val_loss did not improve from 0.03862\n",
            "189/189 [==============================] - 0s 2ms/step - loss: 1.5602 - val_loss: 4.7196\n",
            "Epoch 10/50\n",
            "164/189 [=========================>....] - ETA: 0s - loss: 3.9569\n",
            "Epoch 10: val_loss did not improve from 0.03862\n",
            "189/189 [==============================] - 0s 2ms/step - loss: 3.4887 - val_loss: 1.2378\n",
            "Epoch 11/50\n",
            "170/189 [=========================>....] - ETA: 0s - loss: 0.2535\n",
            "Epoch 11: val_loss did not improve from 0.03862\n",
            "189/189 [==============================] - 0s 2ms/step - loss: 0.2456 - val_loss: 0.2304\n",
            "Epoch 12/50\n",
            "180/189 [===========================>..] - ETA: 0s - loss: 0.1855\n",
            "Epoch 12: val_loss did not improve from 0.03862\n",
            "189/189 [==============================] - 0s 2ms/step - loss: 0.2554 - val_loss: 5.3467\n",
            "Epoch 13/50\n",
            "168/189 [=========================>....] - ETA: 0s - loss: 0.4401\n",
            "Epoch 13: val_loss did not improve from 0.03862\n",
            "189/189 [==============================] - 0s 2ms/step - loss: 0.4334 - val_loss: 2.6478\n",
            "Epoch 14/50\n",
            "173/189 [==========================>...] - ETA: 0s - loss: 0.5226\n",
            "Epoch 14: val_loss did not improve from 0.03862\n",
            "189/189 [==============================] - 0s 2ms/step - loss: 0.4878 - val_loss: 0.4695\n",
            "Epoch 15/50\n",
            "176/189 [==========================>...] - ETA: 0s - loss: 0.2543\n",
            "Epoch 15: val_loss did not improve from 0.03862\n",
            "189/189 [==============================] - 0s 2ms/step - loss: 0.3011 - val_loss: 4.1307\n",
            "Epoch 16/50\n",
            "178/189 [===========================>..] - ETA: 0s - loss: 1.6026\n",
            "Epoch 16: val_loss did not improve from 0.03862\n",
            "189/189 [==============================] - 0s 2ms/step - loss: 1.5175 - val_loss: 0.2755\n",
            "Epoch 17/50\n",
            "180/189 [===========================>..] - ETA: 0s - loss: 0.1464\n",
            "Epoch 17: val_loss did not improve from 0.03862\n",
            "189/189 [==============================] - 0s 2ms/step - loss: 0.1448 - val_loss: 0.7413\n",
            "Epoch 18/50\n",
            "168/189 [=========================>....] - ETA: 0s - loss: 0.3444\n",
            "Epoch 18: val_loss did not improve from 0.03862\n",
            "189/189 [==============================] - 0s 2ms/step - loss: 0.3158 - val_loss: 1.1276\n",
            "Epoch 19/50\n",
            "180/189 [===========================>..] - ETA: 0s - loss: 0.2108\n",
            "Epoch 19: val_loss did not improve from 0.03862\n",
            "189/189 [==============================] - 0s 2ms/step - loss: 0.2215 - val_loss: 3.1996\n",
            "Epoch 20/50\n",
            "171/189 [==========================>...] - ETA: 0s - loss: 0.3005\n",
            "Epoch 20: val_loss did not improve from 0.03862\n",
            "189/189 [==============================] - 0s 2ms/step - loss: 0.2859 - val_loss: 0.9001\n",
            "Epoch 21/50\n",
            "176/189 [==========================>...] - ETA: 0s - loss: 2.5168\n",
            "Epoch 21: val_loss did not improve from 0.03862\n",
            "189/189 [==============================] - 0s 2ms/step - loss: 2.5058 - val_loss: 4.9237\n",
            "Epoch 22/50\n",
            "173/189 [==========================>...] - ETA: 0s - loss: 0.5082\n",
            "Epoch 22: val_loss did not improve from 0.03862\n",
            "189/189 [==============================] - 0s 2ms/step - loss: 0.4695 - val_loss: 0.1530\n",
            "Epoch 23/50\n",
            "172/189 [==========================>...] - ETA: 0s - loss: 0.1089\n",
            "Epoch 23: val_loss did not improve from 0.03862\n",
            "189/189 [==============================] - 0s 2ms/step - loss: 0.1201 - val_loss: 0.5397\n",
            "Epoch 24/50\n",
            "174/189 [==========================>...] - ETA: 0s - loss: 0.3167\n",
            "Epoch 24: val_loss did not improve from 0.03862\n",
            "189/189 [==============================] - 0s 2ms/step - loss: 0.3197 - val_loss: 1.2183\n",
            "Epoch 25/50\n",
            "166/189 [=========================>....] - ETA: 0s - loss: 0.5026\n",
            "Epoch 25: val_loss did not improve from 0.03862\n",
            "189/189 [==============================] - 0s 2ms/step - loss: 0.5205 - val_loss: 4.7593\n",
            "Epoch 26/50\n",
            "180/189 [===========================>..] - ETA: 0s - loss: 2.0082\n",
            "Epoch 26: val_loss did not improve from 0.03862\n",
            "189/189 [==============================] - 0s 2ms/step - loss: 1.9343 - val_loss: 0.4059\n",
            "Epoch 27/50\n",
            "167/189 [=========================>....] - ETA: 0s - loss: 0.4291\n",
            "Epoch 27: val_loss did not improve from 0.03862\n",
            "189/189 [==============================] - 0s 2ms/step - loss: 0.3926 - val_loss: 0.0728\n",
            "Epoch 28/50\n",
            "168/189 [=========================>....] - ETA: 0s - loss: 0.7155\n",
            "Epoch 28: val_loss did not improve from 0.03862\n",
            "189/189 [==============================] - 0s 2ms/step - loss: 0.6472 - val_loss: 0.5311\n",
            "Epoch 29/50\n",
            "175/189 [==========================>...] - ETA: 0s - loss: 0.1329\n",
            "Epoch 29: val_loss did not improve from 0.03862\n",
            "189/189 [==============================] - 0s 2ms/step - loss: 0.1245 - val_loss: 0.4917\n",
            "Epoch 30/50\n",
            "189/189 [==============================] - ETA: 0s - loss: 0.0806\n",
            "Epoch 30: val_loss did not improve from 0.03862\n",
            "189/189 [==============================] - 0s 2ms/step - loss: 0.0806 - val_loss: 2.2183\n",
            "Epoch 31/50\n",
            "178/189 [===========================>..] - ETA: 0s - loss: 0.7947\n",
            "Epoch 31: val_loss did not improve from 0.03862\n",
            "189/189 [==============================] - 0s 2ms/step - loss: 0.8736 - val_loss: 3.9785\n",
            "Epoch 32/50\n",
            "169/189 [=========================>....] - ETA: 0s - loss: 0.9673\n",
            "Epoch 32: val_loss did not improve from 0.03862\n",
            "189/189 [==============================] - 0s 2ms/step - loss: 0.9106 - val_loss: 1.5313\n",
            "Epoch 33/50\n",
            "174/189 [==========================>...] - ETA: 0s - loss: 3.0178\n",
            "Epoch 33: val_loss did not improve from 0.03862\n",
            "189/189 [==============================] - 0s 2ms/step - loss: 3.0069 - val_loss: 4.4792\n",
            "Epoch 34/50\n",
            "177/189 [===========================>..] - ETA: 0s - loss: 0.4598\n",
            "Epoch 34: val_loss did not improve from 0.03862\n",
            "189/189 [==============================] - 0s 2ms/step - loss: 0.4441 - val_loss: 1.3168\n",
            "Epoch 35/50\n",
            "163/189 [========================>.....] - ETA: 0s - loss: 1.3174\n",
            "Epoch 35: val_loss did not improve from 0.03862\n",
            "189/189 [==============================] - 0s 2ms/step - loss: 1.2881 - val_loss: 0.2990\n",
            "Epoch 36/50\n",
            "174/189 [==========================>...] - ETA: 0s - loss: 0.1261\n",
            "Epoch 36: val_loss did not improve from 0.03862\n",
            "189/189 [==============================] - 0s 2ms/step - loss: 0.1279 - val_loss: 0.1413\n",
            "Epoch 37/50\n",
            "174/189 [==========================>...] - ETA: 0s - loss: 0.8367\n",
            "Epoch 37: val_loss did not improve from 0.03862\n",
            "189/189 [==============================] - 0s 2ms/step - loss: 0.7797 - val_loss: 0.0635\n",
            "Epoch 38/50\n",
            "177/189 [===========================>..] - ETA: 0s - loss: 0.1892\n",
            "Epoch 38: val_loss did not improve from 0.03862\n",
            "189/189 [==============================] - 0s 2ms/step - loss: 0.1825 - val_loss: 0.9619\n",
            "Epoch 39/50\n",
            "165/189 [=========================>....] - ETA: 0s - loss: 0.2547\n",
            "Epoch 39: val_loss did not improve from 0.03862\n",
            "189/189 [==============================] - 0s 2ms/step - loss: 0.3093 - val_loss: 1.6086\n",
            "Epoch 40/50\n",
            "171/189 [==========================>...] - ETA: 0s - loss: 0.2958\n",
            "Epoch 40: val_loss did not improve from 0.03862\n",
            "189/189 [==============================] - 0s 2ms/step - loss: 0.2758 - val_loss: 0.3341\n",
            "Epoch 41/50\n",
            "173/189 [==========================>...] - ETA: 0s - loss: 0.1671\n",
            "Epoch 41: val_loss did not improve from 0.03862\n",
            "189/189 [==============================] - 0s 2ms/step - loss: 0.1574 - val_loss: 0.1246\n",
            "Epoch 42/50\n",
            "166/189 [=========================>....] - ETA: 0s - loss: 0.1254\n",
            "Epoch 42: val_loss did not improve from 0.03862\n",
            "189/189 [==============================] - 0s 2ms/step - loss: 0.1193 - val_loss: 0.0789\n",
            "Epoch 43/50\n",
            "168/189 [=========================>....] - ETA: 0s - loss: 0.0572\n",
            "Epoch 43: val_loss did not improve from 0.03862\n",
            "189/189 [==============================] - 0s 2ms/step - loss: 0.0950 - val_loss: 1.2727\n",
            "Epoch 44/50\n",
            "178/189 [===========================>..] - ETA: 0s - loss: 0.2463\n",
            "Epoch 44: val_loss did not improve from 0.03862\n",
            "189/189 [==============================] - 0s 2ms/step - loss: 0.2364 - val_loss: 0.0704\n",
            "Epoch 45/50\n",
            "179/189 [===========================>..] - ETA: 0s - loss: 0.0985\n",
            "Epoch 45: val_loss did not improve from 0.03862\n",
            "189/189 [==============================] - 0s 2ms/step - loss: 0.0967 - val_loss: 0.0630\n",
            "Epoch 46/50\n",
            "179/189 [===========================>..] - ETA: 0s - loss: 2.5397\n",
            "Epoch 46: val_loss did not improve from 0.03862\n",
            "189/189 [==============================] - 0s 2ms/step - loss: 2.4234 - val_loss: 0.4506\n",
            "Epoch 47/50\n",
            "165/189 [=========================>....] - ETA: 0s - loss: 0.3555\n",
            "Epoch 47: val_loss did not improve from 0.03862\n",
            "189/189 [==============================] - 0s 2ms/step - loss: 0.8708 - val_loss: 10.2645\n",
            "Epoch 48/50\n",
            "170/189 [=========================>....] - ETA: 0s - loss: 1.4952\n",
            "Epoch 48: val_loss did not improve from 0.03862\n",
            "189/189 [==============================] - 0s 2ms/step - loss: 1.3925 - val_loss: 0.9448\n",
            "Epoch 49/50\n",
            "163/189 [========================>.....] - ETA: 0s - loss: 0.5981\n",
            "Epoch 49: val_loss did not improve from 0.03862\n",
            "189/189 [==============================] - 0s 2ms/step - loss: 0.6706 - val_loss: 0.5093\n",
            "Epoch 50/50\n",
            "161/189 [========================>.....] - ETA: 0s - loss: 0.0963\n",
            "Epoch 50: val_loss did not improve from 0.03862\n",
            "189/189 [==============================] - 0s 2ms/step - loss: 0.1956 - val_loss: 0.5099\n"
          ]
        },
        {
          "output_type": "execute_result",
          "data": {
            "text/plain": [
              "<keras.callbacks.History at 0x7f57886f57d0>"
            ]
          },
          "metadata": {},
          "execution_count": 22
        }
      ]
    },
    {
      "cell_type": "code",
      "source": [
        "from keras.models import Sequential, load_model\n",
        "\n",
        "model = load_model(\"/content/my_best_model.epoch02-loss0.04.hdf5\")"
      ],
      "metadata": {
        "id": "iYW29C2QF7wz"
      },
      "execution_count": null,
      "outputs": []
    },
    {
      "cell_type": "code",
      "source": [
        "model.evaluate(model.predict(train_x),train_x)"
      ],
      "metadata": {
        "colab": {
          "base_uri": "https://localhost:8080/"
        },
        "id": "seUVB8pIGME5",
        "outputId": "1b343f29-b6b6-4096-e9ba-955e641e75d2"
      },
      "execution_count": null,
      "outputs": [
        {
          "output_type": "stream",
          "name": "stdout",
          "text": [
            "471/471 [==============================] - 1s 1ms/step - loss: 0.0723\n"
          ]
        },
        {
          "output_type": "execute_result",
          "data": {
            "text/plain": [
              "0.07231775671243668"
            ]
          },
          "metadata": {},
          "execution_count": 24
        }
      ]
    },
    {
      "cell_type": "markdown",
      "source": [
        "Test with anomaly data give us high error"
      ],
      "metadata": {
        "id": "LZ3Bnj_nXyuJ"
      }
    },
    {
      "cell_type": "code",
      "source": [
        "model.evaluate(model.predict(test_x),test_x)"
      ],
      "metadata": {
        "colab": {
          "base_uri": "https://localhost:8080/"
        },
        "id": "zrz6Ye_wGUoe",
        "outputId": "7f5b2999-b80d-420a-a3f7-91d68df076a3"
      },
      "execution_count": null,
      "outputs": [
        {
          "output_type": "stream",
          "name": "stdout",
          "text": [
            "25/25 [==============================] - 0s 1ms/step - loss: 94.5257\n"
          ]
        },
        {
          "output_type": "execute_result",
          "data": {
            "text/plain": [
              "94.52570343017578"
            ]
          },
          "metadata": {},
          "execution_count": 25
        }
      ]
    }
  ]
}