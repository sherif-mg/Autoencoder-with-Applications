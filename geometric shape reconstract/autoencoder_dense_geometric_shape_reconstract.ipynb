{
  "nbformat": 4,
  "nbformat_minor": 0,
  "metadata": {
    "colab": {
      "provenance": []
    },
    "kernelspec": {
      "name": "python3",
      "display_name": "Python 3"
    },
    "language_info": {
      "name": "python"
    },
    "accelerator": "GPU"
  },
  "cells": [
    {
      "cell_type": "markdown",
      "source": [
        "Load Data from csv file"
      ],
      "metadata": {
        "id": "qYJshShEUD7u"
      }
    },
    {
      "cell_type": "code",
      "metadata": {
        "id": "4ZIk_OKUyBlq"
      },
      "source": [
        "import numpy as np\n",
        "import pandas as pd\n",
        "from sklearn.model_selection import train_test_split\n",
        "data=pd.read_csv(\"Geom(1).csv\")\n",
        "data_train,data_test=train_test_split(data, test_size=.22, random_state=42)\n",
        "data_test_x=data_test.iloc[:,range(0,data.shape[1],2)]\n",
        "data_test_y=data_test.iloc[:,range(1,data.shape[1],2)]\n"
      ],
      "execution_count": null,
      "outputs": []
    },
    {
      "cell_type": "markdown",
      "source": [
        "Create our model"
      ],
      "metadata": {
        "id": "wmh_OL4YULbZ"
      }
    },
    {
      "cell_type": "code",
      "metadata": {
        "id": "7NT2kzUMtgYb"
      },
      "source": [
        "import keras\n",
        "from keras import layers\n",
        "\n",
        "# This is the size of our encoded representations\n",
        "encoding_dim = 60\n",
        "\n",
        "# This is our input image\n",
        "input_img = keras.Input(shape=(data.shape[1],))\n",
        "# \"encoded\" is the encoded representation of the input\n",
        "encoded = layers.Dense(encoding_dim, activation='elu')(input_img)\n",
        "# \"decoded\" is the lossy reconstruction of the input\n",
        "decoded = layers.Dense(data.shape[1],activation=\"linear\")(encoded)\n",
        "\n",
        "\n",
        "# This model maps an input to its reconstruction\n",
        "autoencoder = keras.Model(input_img, decoded)\n",
        "\n",
        "# This model maps an input to its encoded representation\n",
        "encoder = keras.Model(input_img, encoded)\n",
        "\n",
        "# This is our encoded (32-dimensional) input\n",
        "encoded_input = keras.Input(shape=(encoding_dim,))\n",
        "# Retrieve the last layer of the autoencoder model\n",
        "decoder_layer = autoencoder.layers[-1]\n",
        "# Create the decoder model\n",
        "decoder = keras.Model(encoded_input, decoder_layer(encoded_input))"
      ],
      "execution_count": null,
      "outputs": []
    },
    {
      "cell_type": "code",
      "metadata": {
        "id": "4B6fDNLctpC_"
      },
      "source": [
        "autoencoder.compile(optimizer='adam', loss='mean_squared_error')\n"
      ],
      "execution_count": null,
      "outputs": []
    },
    {
      "cell_type": "code",
      "metadata": {
        "colab": {
          "base_uri": "https://localhost:8080/"
        },
        "id": "Hb13EaUJxGmR",
        "outputId": "3fcca9fa-c003-4e3e-8514-6828c9895350"
      },
      "source": [
        "\n",
        "\n",
        "autoencoder.fit(data_train, data_train,\n",
        "                epochs=100,\n",
        "                batch_size=256,\n",
        "                shuffle=True)\n"
      ],
      "execution_count": null,
      "outputs": [
        {
          "output_type": "stream",
          "name": "stdout",
          "text": [
            "Epoch 1/100\n",
            "1/1 [==============================] - 0s 352ms/step - loss: 11674.8193\n",
            "Epoch 2/100\n",
            "1/1 [==============================] - 0s 5ms/step - loss: 10425.7090\n",
            "Epoch 3/100\n",
            "1/1 [==============================] - 0s 5ms/step - loss: 9334.5566\n",
            "Epoch 4/100\n",
            "1/1 [==============================] - 0s 5ms/step - loss: 8384.0879\n",
            "Epoch 5/100\n",
            "1/1 [==============================] - 0s 7ms/step - loss: 7556.3857\n",
            "Epoch 6/100\n",
            "1/1 [==============================] - 0s 6ms/step - loss: 6846.6279\n",
            "Epoch 7/100\n",
            "1/1 [==============================] - 0s 8ms/step - loss: 6237.4336\n",
            "Epoch 8/100\n",
            "1/1 [==============================] - 0s 7ms/step - loss: 5718.0337\n",
            "Epoch 9/100\n",
            "1/1 [==============================] - 0s 13ms/step - loss: 5279.6519\n",
            "Epoch 10/100\n",
            "1/1 [==============================] - 0s 7ms/step - loss: 4909.1270\n",
            "Epoch 11/100\n",
            "1/1 [==============================] - 0s 6ms/step - loss: 4592.9800\n",
            "Epoch 12/100\n",
            "1/1 [==============================] - 0s 6ms/step - loss: 4330.0234\n",
            "Epoch 13/100\n",
            "1/1 [==============================] - 0s 6ms/step - loss: 4097.7476\n",
            "Epoch 14/100\n",
            "1/1 [==============================] - 0s 6ms/step - loss: 3888.4932\n",
            "Epoch 15/100\n",
            "1/1 [==============================] - 0s 6ms/step - loss: 3696.4426\n",
            "Epoch 16/100\n",
            "1/1 [==============================] - 0s 7ms/step - loss: 3516.4316\n",
            "Epoch 17/100\n",
            "1/1 [==============================] - 0s 7ms/step - loss: 3345.7881\n",
            "Epoch 18/100\n",
            "1/1 [==============================] - 0s 7ms/step - loss: 3181.0312\n",
            "Epoch 19/100\n",
            "1/1 [==============================] - 0s 20ms/step - loss: 3020.7996\n",
            "Epoch 20/100\n",
            "1/1 [==============================] - 0s 14ms/step - loss: 2864.1326\n",
            "Epoch 21/100\n",
            "1/1 [==============================] - 0s 13ms/step - loss: 2710.4399\n",
            "Epoch 22/100\n",
            "1/1 [==============================] - 0s 6ms/step - loss: 2559.5005\n",
            "Epoch 23/100\n",
            "1/1 [==============================] - 0s 12ms/step - loss: 2411.3926\n",
            "Epoch 24/100\n",
            "1/1 [==============================] - 0s 10ms/step - loss: 2266.3982\n",
            "Epoch 25/100\n",
            "1/1 [==============================] - 0s 8ms/step - loss: 2124.9092\n",
            "Epoch 26/100\n",
            "1/1 [==============================] - 0s 7ms/step - loss: 1987.3518\n",
            "Epoch 27/100\n",
            "1/1 [==============================] - 0s 6ms/step - loss: 1854.1333\n",
            "Epoch 28/100\n",
            "1/1 [==============================] - 0s 7ms/step - loss: 1725.6180\n",
            "Epoch 29/100\n",
            "1/1 [==============================] - 0s 12ms/step - loss: 1602.1234\n",
            "Epoch 30/100\n",
            "1/1 [==============================] - 0s 6ms/step - loss: 1483.9310\n",
            "Epoch 31/100\n",
            "1/1 [==============================] - 0s 6ms/step - loss: 1371.2953\n",
            "Epoch 32/100\n",
            "1/1 [==============================] - 0s 6ms/step - loss: 1264.4362\n",
            "Epoch 33/100\n",
            "1/1 [==============================] - 0s 6ms/step - loss: 1163.5229\n",
            "Epoch 34/100\n",
            "1/1 [==============================] - 0s 6ms/step - loss: 1068.6486\n",
            "Epoch 35/100\n",
            "1/1 [==============================] - 0s 4ms/step - loss: 979.8093\n",
            "Epoch 36/100\n",
            "1/1 [==============================] - 0s 5ms/step - loss: 896.8970\n",
            "Epoch 37/100\n",
            "1/1 [==============================] - 0s 5ms/step - loss: 819.7078\n",
            "Epoch 38/100\n",
            "1/1 [==============================] - 0s 6ms/step - loss: 747.9673\n",
            "Epoch 39/100\n",
            "1/1 [==============================] - 0s 13ms/step - loss: 681.3638\n",
            "Epoch 40/100\n",
            "1/1 [==============================] - 0s 8ms/step - loss: 619.5784\n",
            "Epoch 41/100\n",
            "1/1 [==============================] - 0s 6ms/step - loss: 562.3068\n",
            "Epoch 42/100\n",
            "1/1 [==============================] - 0s 6ms/step - loss: 509.2687\n",
            "Epoch 43/100\n",
            "1/1 [==============================] - 0s 6ms/step - loss: 460.2076\n",
            "Epoch 44/100\n",
            "1/1 [==============================] - 0s 6ms/step - loss: 414.8883\n",
            "Epoch 45/100\n",
            "1/1 [==============================] - 0s 12ms/step - loss: 373.0948\n",
            "Epoch 46/100\n",
            "1/1 [==============================] - 0s 6ms/step - loss: 334.6308\n",
            "Epoch 47/100\n",
            "1/1 [==============================] - 0s 11ms/step - loss: 299.3308\n",
            "Epoch 48/100\n",
            "1/1 [==============================] - 0s 7ms/step - loss: 267.1196\n",
            "Epoch 49/100\n",
            "1/1 [==============================] - 0s 7ms/step - loss: 237.7653\n",
            "Epoch 50/100\n",
            "1/1 [==============================] - 0s 7ms/step - loss: 211.0997\n",
            "Epoch 51/100\n",
            "1/1 [==============================] - 0s 7ms/step - loss: 186.9822\n",
            "Epoch 52/100\n",
            "1/1 [==============================] - 0s 7ms/step - loss: 165.2781\n",
            "Epoch 53/100\n",
            "1/1 [==============================] - 0s 9ms/step - loss: 145.8523\n",
            "Epoch 54/100\n",
            "1/1 [==============================] - 0s 10ms/step - loss: 128.5665\n",
            "Epoch 55/100\n",
            "1/1 [==============================] - 0s 13ms/step - loss: 113.2765\n",
            "Epoch 56/100\n",
            "1/1 [==============================] - 0s 11ms/step - loss: 99.8303\n",
            "Epoch 57/100\n",
            "1/1 [==============================] - 0s 12ms/step - loss: 88.0681\n",
            "Epoch 58/100\n",
            "1/1 [==============================] - 0s 12ms/step - loss: 77.8238\n",
            "Epoch 59/100\n",
            "1/1 [==============================] - 0s 9ms/step - loss: 68.9274\n",
            "Epoch 60/100\n",
            "1/1 [==============================] - 0s 5ms/step - loss: 61.2098\n",
            "Epoch 61/100\n",
            "1/1 [==============================] - 0s 7ms/step - loss: 54.5078\n",
            "Epoch 62/100\n",
            "1/1 [==============================] - 0s 8ms/step - loss: 48.6696\n",
            "Epoch 63/100\n",
            "1/1 [==============================] - 0s 5ms/step - loss: 43.5580\n",
            "Epoch 64/100\n",
            "1/1 [==============================] - 0s 6ms/step - loss: 39.0530\n",
            "Epoch 65/100\n",
            "1/1 [==============================] - 0s 6ms/step - loss: 35.0520\n",
            "Epoch 66/100\n",
            "1/1 [==============================] - 0s 5ms/step - loss: 31.4684\n",
            "Epoch 67/100\n",
            "1/1 [==============================] - 0s 17ms/step - loss: 28.2315\n",
            "Epoch 68/100\n",
            "1/1 [==============================] - 0s 16ms/step - loss: 25.2851\n",
            "Epoch 69/100\n",
            "1/1 [==============================] - 0s 6ms/step - loss: 22.5875\n",
            "Epoch 70/100\n",
            "1/1 [==============================] - 0s 5ms/step - loss: 20.1105\n",
            "Epoch 71/100\n",
            "1/1 [==============================] - 0s 5ms/step - loss: 17.8363\n",
            "Epoch 72/100\n",
            "1/1 [==============================] - 0s 5ms/step - loss: 15.7546\n",
            "Epoch 73/100\n",
            "1/1 [==============================] - 0s 13ms/step - loss: 13.8591\n",
            "Epoch 74/100\n",
            "1/1 [==============================] - 0s 6ms/step - loss: 12.1443\n",
            "Epoch 75/100\n",
            "1/1 [==============================] - 0s 8ms/step - loss: 10.6042\n",
            "Epoch 76/100\n",
            "1/1 [==============================] - 0s 7ms/step - loss: 9.2319\n",
            "Epoch 77/100\n",
            "1/1 [==============================] - 0s 9ms/step - loss: 8.0188\n",
            "Epoch 78/100\n",
            "1/1 [==============================] - 0s 9ms/step - loss: 6.9553\n",
            "Epoch 79/100\n",
            "1/1 [==============================] - 0s 7ms/step - loss: 6.0300\n",
            "Epoch 80/100\n",
            "1/1 [==============================] - 0s 11ms/step - loss: 5.2299\n",
            "Epoch 81/100\n",
            "1/1 [==============================] - 0s 9ms/step - loss: 4.5413\n",
            "Epoch 82/100\n",
            "1/1 [==============================] - 0s 5ms/step - loss: 3.9503\n",
            "Epoch 83/100\n",
            "1/1 [==============================] - 0s 8ms/step - loss: 3.4438\n",
            "Epoch 84/100\n",
            "1/1 [==============================] - 0s 11ms/step - loss: 3.0108\n",
            "Epoch 85/100\n",
            "1/1 [==============================] - 0s 6ms/step - loss: 2.6415\n",
            "Epoch 86/100\n",
            "1/1 [==============================] - 0s 10ms/step - loss: 2.3281\n",
            "Epoch 87/100\n",
            "1/1 [==============================] - 0s 9ms/step - loss: 2.0637\n",
            "Epoch 88/100\n",
            "1/1 [==============================] - 0s 8ms/step - loss: 1.8421\n",
            "Epoch 89/100\n",
            "1/1 [==============================] - 0s 6ms/step - loss: 1.6581\n",
            "Epoch 90/100\n",
            "1/1 [==============================] - 0s 14ms/step - loss: 1.5065\n",
            "Epoch 91/100\n",
            "1/1 [==============================] - 0s 7ms/step - loss: 1.3827\n",
            "Epoch 92/100\n",
            "1/1 [==============================] - 0s 9ms/step - loss: 1.2817\n",
            "Epoch 93/100\n",
            "1/1 [==============================] - 0s 12ms/step - loss: 1.1981\n",
            "Epoch 94/100\n",
            "1/1 [==============================] - 0s 17ms/step - loss: 1.1269\n",
            "Epoch 95/100\n",
            "1/1 [==============================] - 0s 13ms/step - loss: 1.0632\n",
            "Epoch 96/100\n",
            "1/1 [==============================] - 0s 11ms/step - loss: 1.0033\n",
            "Epoch 97/100\n",
            "1/1 [==============================] - 0s 10ms/step - loss: 0.9448\n",
            "Epoch 98/100\n",
            "1/1 [==============================] - 0s 12ms/step - loss: 0.8869\n",
            "Epoch 99/100\n",
            "1/1 [==============================] - 0s 9ms/step - loss: 0.8295\n",
            "Epoch 100/100\n",
            "1/1 [==============================] - 0s 17ms/step - loss: 0.7736\n"
          ]
        },
        {
          "output_type": "execute_result",
          "data": {
            "text/plain": [
              "<keras.callbacks.History at 0x7f648ab4ea90>"
            ]
          },
          "metadata": {},
          "execution_count": 252
        }
      ]
    },
    {
      "cell_type": "code",
      "metadata": {
        "id": "it0mASkrJ4Nf"
      },
      "source": [
        "encoded_points = encoder.predict(data_test)\n",
        "decoded_points = decoder.predict(encoded_points)"
      ],
      "execution_count": null,
      "outputs": []
    },
    {
      "cell_type": "markdown",
      "source": [
        "Evaluate"
      ],
      "metadata": {
        "id": "K4duLljKUR7n"
      }
    },
    {
      "cell_type": "code",
      "metadata": {
        "colab": {
          "base_uri": "https://localhost:8080/"
        },
        "id": "wh7Qrb1C9I1A",
        "outputId": "46e1c68c-8848-4ce7-f929-b2921f5273b4"
      },
      "source": [
        "print(\"Evaluate on test data\")\n",
        "results = autoencoder.evaluate(decoded_points,data_test, batch_size=128)\n",
        "print(\"test loss,\", results)"
      ],
      "execution_count": null,
      "outputs": [
        {
          "output_type": "stream",
          "name": "stdout",
          "text": [
            "Evaluate on test data\n",
            "1/1 [==============================] - 0s 91ms/step - loss: 0.7380\n",
            "test loss, 0.7379986047744751\n"
          ]
        }
      ]
    },
    {
      "cell_type": "code",
      "metadata": {
        "id": "f6-Jfn7GF9QK"
      },
      "source": [
        "data_test_xdush=decoded_points[:,range(0,data.shape[1],2)]\n",
        "data_test_ydush=decoded_points[:,range(1,data.shape[1],2)]"
      ],
      "execution_count": null,
      "outputs": []
    },
    {
      "cell_type": "code",
      "metadata": {
        "colab": {
          "base_uri": "https://localhost:8080/",
          "height": 244
        },
        "id": "4E0a4cZntpoM",
        "outputId": "f559926a-0d24-45cf-d4c8-a02294df9a4d"
      },
      "source": [
        "import matplotlib.pyplot as plt\n",
        "\n",
        "n = 5  # How many digits we will display\n",
        "plt.figure(figsize=(50, 12))\n",
        "for i in range(n):\n",
        "    # Display original\n",
        "    ax = plt.subplot(2, n, i + 1)\n",
        "    plt.xlim([data_test_x.min().min(), data_test_x.max().max()])\n",
        "    plt.ylim([data_test_y.min().min(), data_test_y.max().max()])\n",
        "    plt.scatter(data_test_x.iloc[i],data_test_y.iloc[i])\n",
        "    ax.get_xaxis().set_visible(True)\n",
        "    ax.get_yaxis().set_visible(True)\n",
        "\n",
        "    # Display reconstruction\n",
        "    ax = plt.subplot(2, n, i + 1 + n)\n",
        "    plt.xlim([data_test_x.min().min(), data_test_x.max().max()])\n",
        "    plt.ylim([data_test_y.min().min(), data_test_y.max().max()])    \n",
        "    plt.scatter(data_test_xdush[i],data_test_ydush[i])\n",
        "    ax.get_xaxis().set_visible(True)\n",
        "    ax.get_yaxis().set_visible(True)\n",
        "plt.show()\n"
      ],
      "execution_count": null,
      "outputs": [
        {
          "output_type": "display_data",
          "data": {
            "image/png": "[encoded data removed]",
            "text/plain": [
              "<Figure size 3600x864 with 10 Axes>"
            ]
          },
          "metadata": {
            "needs_background": "light"
          }
        }
      ]
    }
  ]
}